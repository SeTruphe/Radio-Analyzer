{
 "cells": [
  {
   "cell_type": "code",
   "execution_count": 2,
   "id": "4b583487",
   "metadata": {},
   "outputs": [],
   "source": [
    "import re\n",
    "from evaluate import load\n",
    "import whisper\n",
    "import os\n",
    "from transformers import AutoTokenizer, AutoModelForSeq2SeqLM"
   ]
  },
  {
   "cell_type": "code",
   "execution_count": 7,
   "id": "8a9dc732",
   "metadata": {},
   "outputs": [],
   "source": [
    "def read_txt(path_gt, alternative=False, grammar=False):\n",
    "    file = open(path_gt, encoding=\"utf-8\")\n",
    "    lines = file.readlines()\n",
    "\n",
    "    text = []\n",
    "\n",
    "    for line in lines:\n",
    "\n",
    "        if grammar:\n",
    "            buffer = line.replace(\"[\", \"\")\n",
    "            buffer = buffer.replace(\"]\", \"\")\n",
    "        else:\n",
    "            buffer = re.sub(\"[\\[].*?[\\]]\", \"\", line)\n",
    "\n",
    "        new_line = buffer.split()\n",
    "\n",
    "        for word in new_line:\n",
    "            if alternative == False:\n",
    "                if word.startswith(\"(\"):\n",
    "                    new_line.remove(word)\n",
    "            else:\n",
    "                if word.startswith(\"(\"):\n",
    "                    tmp = word.replace(\"(\", \"\")\n",
    "                    tmp = tmp.replace(\")\", \"\")\n",
    "                    new_line[new_line.index(word) - 1] = tmp\n",
    "                    index = (new_line.index(word))\n",
    "                    del new_line[index]\n",
    "\n",
    "        text.append(\" \".join(new_line))\n",
    "    return text"
   ]
  },
  {
   "cell_type": "code",
   "execution_count": 8,
   "id": "c83333d3",
   "metadata": {},
   "outputs": [],
   "source": [
    "def get_metrics(path_gt, path_org):\n",
    "    gt_original = os.path.join(path_gt, \"transcript_original.txt\")\n",
    "    gt_deutsch = os.path.join(path_gt, \"translation_german.txt\")\n",
    "    path_original = os.path.join(path_org, \"transcript_original.txt\")\n",
    "    path_deutsch = os.path.join(path_org, \"translation_german.txt\")\n",
    "\n",
    "    original = read_txt(path_original)\n",
    "    deutsch = read_txt(path_deutsch)\n",
    "    original_truth = read_txt(gt_original)\n",
    "    deutsch_truth = read_txt(gt_deutsch)\n",
    "\n",
    "    original = \" \".join(original)\n",
    "    deutsch = \" \".join(deutsch)\n",
    "    original_truth = \" \".join(original_truth)\n",
    "    deutsch_truth = \" \".join(deutsch_truth)\n",
    "\n",
    "    tmp_original = []\n",
    "    tmp_deutsch = []\n",
    "    tmp_org_tr = []\n",
    "    tmp_dts_tr = []\n",
    "\n",
    "    tmp_original.append(original)\n",
    "    tmp_deutsch.append(deutsch)\n",
    "    tmp_org_tr.append(original_truth)\n",
    "    tmp_dts_tr.append(deutsch_truth)\n",
    "\n",
    "    wer = load(\"wer\")\n",
    "\n",
    "    wer_score_deutsch = wer.compute(predictions=tmp_deutsch, references=tmp_dts_tr)\n",
    "    wer_score_original = wer.compute(predictions=tmp_original, references=tmp_org_tr)\n",
    "\n",
    "    print(\"WER Original: \" + str(wer_score_original))\n",
    "    print(\"WER Deutsch: \" + str(wer_score_deutsch))"
   ]
  },
  {
   "cell_type": "code",
   "execution_count": 10,
   "id": "8cf6b0e9",
   "metadata": {},
   "outputs": [
    {
     "name": "stdout",
     "output_type": "stream",
     "text": [
      "WER Original: 0.0\n",
      "WER Deutsch: 0.0\n"
     ]
    }
   ],
   "source": [
    "path_toAnalyze = \"\"\n",
    "path_truth = \"\"\n",
    "\n",
    "get_metrics(path_toAnalyze, path_truth)"
   ]
  },
  {
   "cell_type": "code",
   "execution_count": null,
   "id": "7bb92606",
   "metadata": {},
   "outputs": [],
   "source": []
  }
 ],
 "metadata": {
  "kernelspec": {
   "display_name": "Python 3 (ipykernel)",
   "language": "python",
   "name": "python3"
  },
  "language_info": {
   "codemirror_mode": {
    "name": "ipython",
    "version": 3
   },
   "file_extension": ".py",
   "mimetype": "text/x-python",
   "name": "python",
   "nbconvert_exporter": "python",
   "pygments_lexer": "ipython3",
   "version": "3.9.13"
  }
 },
 "nbformat": 4,
 "nbformat_minor": 5
}
